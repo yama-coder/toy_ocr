{
 "cells": [
  {
   "cell_type": "code",
   "execution_count": 13,
   "metadata": {},
   "outputs": [],
   "source": [
    "from paddleocr import PaddleOCR, draw_ocr\n",
    "from PIL import Image\n",
    "from PIL import ImageFont"
   ]
  },
  {
   "cell_type": "code",
   "execution_count": 15,
   "metadata": {},
   "outputs": [
    {
     "name": "stdout",
     "output_type": "stream",
     "text": [
      "[2023/03/28 11:16:18] ppocr DEBUG: Namespace(alpha=1.0, benchmark=False, beta=1.0, cls_batch_num=6, cls_image_shape='3, 48, 192', cls_model_dir='/home/yamamoto/.paddleocr/whl/cls/ch_ppocr_mobile_v2.0_cls_infer', cls_thresh=0.9, cpu_threads=10, crop_res_save_dir='./output', det=True, det_algorithm='DB', det_box_type='quad', det_db_box_thresh=0.6, det_db_score_mode='fast', det_db_thresh=0.3, det_db_unclip_ratio=1.5, det_east_cover_thresh=0.1, det_east_nms_thresh=0.2, det_east_score_thresh=0.8, det_limit_side_len=960, det_limit_type='max', det_model_dir='/home/yamamoto/.paddleocr/whl/det/en/en_PP-OCRv3_det_infer', det_pse_box_thresh=0.85, det_pse_min_area=16, det_pse_scale=1, det_pse_thresh=0, det_sast_nms_thresh=0.2, det_sast_score_thresh=0.5, draw_img_save_dir='./inference_results', drop_score=0.5, e2e_algorithm='PGNet', e2e_char_dict_path='./ppocr/utils/ic15_dict.txt', e2e_limit_side_len=768, e2e_limit_type='max', e2e_model_dir=None, e2e_pgnet_mode='fast', e2e_pgnet_score_thresh=0.5, e2e_pgnet_valid_set='totaltext', enable_mkldnn=False, fourier_degree=5, gpu_mem=500, help='==SUPPRESS==', image_dir=None, image_orientation=False, ir_optim=True, kie_algorithm='LayoutXLM', label_list=['0', '180'], lang='en', layout=True, layout_dict_path=None, layout_model_dir=None, layout_nms_threshold=0.5, layout_score_threshold=0.5, max_batch_size=10, max_text_length=25, merge_no_span_structure=True, min_subgraph_size=15, mode='structure', ocr=True, ocr_order_method=None, ocr_version='PP-OCRv3', output='./output', page_num=0, precision='fp32', process_id=0, re_model_dir=None, rec=True, rec_algorithm='SVTR_LCNet', rec_batch_num=6, rec_char_dict_path='/home/yamamoto/.local/share/virtualenvs/toy_ocr-vs5s4gcv/lib/python3.8/site-packages/paddleocr/ppocr/utils/en_dict.txt', rec_image_inverse=True, rec_image_shape='3, 48, 320', rec_model_dir='/home/yamamoto/.paddleocr/whl/rec/en/en_PP-OCRv3_rec_infer', recovery=False, save_crop_res=False, save_log_path='./log_output/', scales=[8, 16, 32], ser_dict_path='../train_data/XFUND/class_list_xfun.txt', ser_model_dir=None, show_log=True, sr_batch_num=1, sr_image_shape='3, 32, 128', sr_model_dir=None, structure_version='PP-StructureV2', table=True, table_algorithm='TableAttn', table_char_dict_path=None, table_max_len=488, table_model_dir=None, total_process_num=1, type='ocr', use_angle_cls=True, use_dilation=False, use_gpu=False, use_mp=False, use_npu=False, use_onnx=False, use_pdf2docx_api=False, use_pdserving=False, use_space_char=True, use_tensorrt=False, use_visual_backbone=True, use_xpu=False, vis_font_path='./doc/fonts/simfang.ttf', warmup=False)\n",
      "[2023/03/28 11:16:19] ppocr DEBUG: dt_boxes num : 37, elapse : 0.3060455322265625\n",
      "[2023/03/28 11:16:19] ppocr DEBUG: cls num  : 37, elapse : 0.12282323837280273\n",
      "[2023/03/28 11:16:21] ppocr DEBUG: rec_res num  : 37, elapse : 2.545182228088379\n",
      "[[[213.0, 290.0], [882.0, 282.0], [882.0, 319.0], [213.0, 327.0]], ('#5-77-F0=', 0.661470353603363)]\n",
      "[[[269.0, 342.0], [819.0, 337.0], [819.0, 370.0], [270.0, 374.0]], ('L-KL+h', 0.6067209839820862)]\n",
      "[[[157.0, 439.0], [647.0, 430.0], [648.0, 457.0], [158.0, 467.0]], ('from transformers import BertJapaneseTokenizer', 0.9710307121276855)]\n",
      "[[[762.0, 430.0], [955.0, 435.0], [954.0, 476.0], [760.0, 471.0]], (\"\\\\Let'sTry!/\", 0.9516159296035767)]\n",
      "[[[159.0, 478.0], [675.0, 468.0], [676.0, 496.0], [159.0, 505.0]], ('tokenizer=BertJapaneseTokenizer.from_pretrained(', 0.9913131594657898)]\n",
      "[[[159.0, 505.0], [739.0, 496.0], [739.0, 522.0], [159.0, 532.0]], ('\"kenll/albert-base-japanese-vi-with-japanese-tokenizer\")', 0.9634079337120056)]\n",
      "[[[161.0, 533.0], [754.0, 524.0], [755.0, 550.0], [161.0, 559.0]], ('ids=[2,1194,12985,13971,9,1847,1873,2683,14,3588,18,8689,', 0.9560658931732178)]\n",
      "[[[159.0, 561.0], [735.0, 553.0], [736.0, 578.0], [159.0, 586.0]], ('11,6441,15,17,27,2716,8,74,1317,11,517,15,10,618,533,201,28,', 0.9607059955596924)]\n",
      "[[[159.0, 587.0], [384.0, 584.0], [385.0, 610.0], [159.0, 613.0]], ('3433,15,17,21,2716,8,3]', 0.9504064321517944)]\n",
      "[[[161.0, 627.0], [433.0, 622.0], [433.0, 648.0], [161.0, 653.0]], ('print(tokenizer.decode(ids))', 0.9897323250770569)]\n",
      "[[[436.0, 715.0], [721.0, 712.0], [722.0, 749.0], [437.0, 752.0]], ('Money Forward Lab', 0.9484947323799133)]\n",
      "[[[209.0, 869.0], [528.0, 867.0], [528.0, 900.0], [210.0, 901.0]], ('Ln3y', 0.6654187440872192)]\n",
      "[[[159.0, 891.0], [186.0, 890.0], [189.0, 976.0], [163.0, 977.0]], ('MSPT', 0.9968446493148804)]\n",
      "[[[208.0, 907.0], [627.0, 906.0], [627.0, 938.0], [208.0, 940.0]], ('90', 0.8429844379425049)]\n",
      "[[[210.0, 944.0], [544.0, 948.0], [543.0, 980.0], [209.0, 977.0]], ('Wn#L', 0.5002453327178955)]\n",
      "[[[158.0, 983.0], [192.0, 983.0], [192.0, 1100.0], [158.0, 1100.0]], ('50395', 0.9968870282173157)]\n",
      "[[[210.0, 986.0], [566.0, 986.0], [566.0, 1017.0], [210.0, 1017.0]], ('150', 0.9759113192558289)]\n",
      "[[[210.0, 1035.0], [734.0, 1035.0], [734.0, 1066.0], [210.0, 1066.0]], ('OO+', 0.6529703736305237)]\n",
      "[[[208.0, 1074.0], [695.0, 1075.0], [695.0, 1112.0], [208.0, 1111.0]], ('F--1', 0.6566255688667297)]\n",
      "[[[758.0, 1066.0], [885.0, 1066.0], [885.0, 1105.0], [758.0, 1105.0]], ('my.', 0.9536880850791931)]\n",
      "[[[919.0, 1067.0], [1034.0, 1056.0], [1038.0, 1094.0], [923.0, 1106.0]], ('OO', 0.6035054922103882)]\n",
      "[[[214.0, 1112.0], [543.0, 1112.0], [543.0, 1143.0], [214.0, 1143.0]], ('--V', 0.510267972946167)]\n",
      "[[[758.0, 1106.0], [896.0, 1106.0], [896.0, 1145.0], [758.0, 1145.0]], ('DRIP', 0.972522497177124)]\n",
      "[[[923.0, 1103.0], [986.0, 1103.0], [986.0, 1131.0], [923.0, 1131.0]], ('42', 0.5496336817741394)]\n",
      "[[[211.0, 1142.0], [666.0, 1140.0], [666.0, 1172.0], [211.0, 1174.0]], ('9g12023.9.7', 0.8931259512901306)]\n",
      "[[[758.0, 1152.0], [994.0, 1152.0], [994.0, 1185.0], [758.0, 1185.0]], ('BAG.O', 0.8581048846244812)]\n",
      "[[[750.0, 1214.0], [996.0, 1217.0], [995.0, 1250.0], [750.0, 1246.0]], ('71', 0.6956232786178589)]\n",
      "[[[219.0, 1230.0], [701.0, 1220.0], [701.0, 1248.0], [219.0, 1257.0]], ('3450-12Tel.042-850-9007', 0.9025676846504211)]\n",
      "[[[224.0, 1262.0], [758.0, 1256.0], [758.0, 1277.0], [224.0, 1283.0]], ('F', 0.7544815540313721)]\n",
      "[[[747.0, 1253.0], [1002.0, 1253.0], [1002.0, 1279.0], [747.0, 1279.0]], ('shop.hillscabo.com', 0.9951989650726318)]\n"
     ]
    },
    {
     "ename": "TypeError",
     "evalue": "'<' not supported between instances of 'float' and 'ImageFont'",
     "output_type": "error",
     "traceback": [
      "\u001b[0;31m---------------------------------------------------------------------------\u001b[0m",
      "\u001b[0;31mTypeError\u001b[0m                                 Traceback (most recent call last)",
      "Cell \u001b[0;32mIn[15], line 16\u001b[0m\n\u001b[1;32m     14\u001b[0m txts \u001b[39m=\u001b[39m [line[\u001b[39m1\u001b[39m][\u001b[39m0\u001b[39m] \u001b[39mfor\u001b[39;00m line \u001b[39min\u001b[39;00m result]\n\u001b[1;32m     15\u001b[0m scores \u001b[39m=\u001b[39m [line[\u001b[39m1\u001b[39m][\u001b[39m1\u001b[39m] \u001b[39mfor\u001b[39;00m line \u001b[39min\u001b[39;00m result]\n\u001b[0;32m---> 16\u001b[0m im_show \u001b[39m=\u001b[39m draw_ocr(image, boxes, txts, scores, font)\n\u001b[1;32m     17\u001b[0m im_show \u001b[39m=\u001b[39m Image\u001b[39m.\u001b[39mfromarray(im_show)\n\u001b[1;32m     18\u001b[0m im_show\u001b[39m.\u001b[39msave(\u001b[39m'\u001b[39m\u001b[39mresult.jpg\u001b[39m\u001b[39m'\u001b[39m)\n",
      "File \u001b[0;32m~/.local/share/virtualenvs/toy_ocr-vs5s4gcv/lib/python3.8/site-packages/paddleocr/tools/infer/utility.py:382\u001b[0m, in \u001b[0;36mdraw_ocr\u001b[0;34m(image, boxes, txts, scores, drop_score, font_path)\u001b[0m\n\u001b[1;32m    380\u001b[0m box_num \u001b[39m=\u001b[39m \u001b[39mlen\u001b[39m(boxes)\n\u001b[1;32m    381\u001b[0m \u001b[39mfor\u001b[39;00m i \u001b[39min\u001b[39;00m \u001b[39mrange\u001b[39m(box_num):\n\u001b[0;32m--> 382\u001b[0m     \u001b[39mif\u001b[39;00m scores \u001b[39mis\u001b[39;00m \u001b[39mnot\u001b[39;00m \u001b[39mNone\u001b[39;00m \u001b[39mand\u001b[39;00m (scores[i] \u001b[39m<\u001b[39;49m drop_score \u001b[39mor\u001b[39;00m\n\u001b[1;32m    383\u001b[0m                                math\u001b[39m.\u001b[39misnan(scores[i])):\n\u001b[1;32m    384\u001b[0m         \u001b[39mcontinue\u001b[39;00m\n\u001b[1;32m    385\u001b[0m     box \u001b[39m=\u001b[39m np\u001b[39m.\u001b[39mreshape(np\u001b[39m.\u001b[39marray(boxes[i]), [\u001b[39m-\u001b[39m\u001b[39m1\u001b[39m, \u001b[39m1\u001b[39m, \u001b[39m2\u001b[39m])\u001b[39m.\u001b[39mastype(np\u001b[39m.\u001b[39mint64)\n",
      "\u001b[0;31mTypeError\u001b[0m: '<' not supported between instances of 'float' and 'ImageFont'"
     ]
    }
   ],
   "source": [
    "ocr = PaddleOCR(use_angle_cls=True, lang=\"en\")\n",
    "img_path = '../data/moneycoffee.jpg'\n",
    "results = ocr.ocr(img_path, cls=True)\n",
    "for idx in range(len(results)):\n",
    "    res = results[idx]\n",
    "    for line in res:\n",
    "        print(line)\n",
    "\n",
    "\n",
    "font = ImageFont.load_default()\n",
    "result = results[0]\n",
    "image = Image.open(img_path).convert('RGB')\n",
    "boxes = [line[0] for line in result]\n",
    "txts = [line[1][0] for line in result]\n",
    "scores = [line[1][1] for line in result]\n",
    "im_show = draw_ocr(image, boxes, txts, scores, font)\n",
    "im_show = Image.fromarray(im_show)\n",
    "im_show.save('result.jpg')"
   ]
  },
  {
   "cell_type": "code",
   "execution_count": null,
   "metadata": {},
   "outputs": [],
   "source": []
  }
 ],
 "metadata": {
  "kernelspec": {
   "display_name": "toy_ocr-vs5s4gcv",
   "language": "python",
   "name": "python3"
  },
  "language_info": {
   "codemirror_mode": {
    "name": "ipython",
    "version": 3
   },
   "file_extension": ".py",
   "mimetype": "text/x-python",
   "name": "python",
   "nbconvert_exporter": "python",
   "pygments_lexer": "ipython3",
   "version": "3.8.10"
  },
  "orig_nbformat": 4
 },
 "nbformat": 4,
 "nbformat_minor": 2
}
